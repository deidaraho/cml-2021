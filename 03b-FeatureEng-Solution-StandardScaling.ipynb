{
 "cells": [
  {
   "cell_type": "markdown",
   "metadata": {},
   "source": [
    "# Feature Eng Lab: Standard Scaling\n",
    "\n",
    "In this lab, we'll redo our power plant regression with one change: we'll standardize our variables.\n",
    "\n",
    "This means that we'll take our predictors and, for each one,\n",
    "1. calculate its mean and standard deviation\n",
    "2. subtract the mean\n",
    "3. divide by the standard deviation\n",
    "\n",
    "The result is that \n",
    "* the mean will be zero and \n",
    "* the units will be comparable amounts of variance\n",
    "\n",
    "Aside from helping some algorithms perform better, this standardization will let us compare the importance of our variables after training. That can be really useful in understanding our data, or just simplifying a model that might start out with hundreds or thousands of parameters."
   ]
  },
  {
   "cell_type": "markdown",
   "metadata": {},
   "source": [
    "We'll start with our last working solution:"
   ]
  },
  {
   "cell_type": "code",
   "execution_count": null,
   "metadata": {},
   "outputs": [],
   "source": [
    "import pandas as pd\n",
    "from sklearn.model_selection import train_test_split\n",
    "from sklearn import linear_model\n",
    "from sklearn.metrics import mean_squared_error\n",
    "import numpy as np\n",
    "\n",
    "df = pd.read_csv('data/powerplant.csv')\n",
    "X = df.iloc[:, :4]\n",
    "y = df.iloc[:, 4]\n",
    "X_train, X_test, y_train, y_test = train_test_split(X, y, test_size=0.3)\n",
    "lr = linear_model.LinearRegression()\n",
    "linear = lr.fit(X_train, y_train)\n",
    "y_pred = linear.predict(X_test)\n",
    "print(\"RMSE %f\" % np.sqrt(mean_squared_error(y_test, y_pred)) )\n",
    "list(zip(X_train.columns,linear.coef_))"
   ]
  },
  {
   "cell_type": "markdown",
   "metadata": {},
   "source": [
    "Now we want to use scikit-learn's built-in StandardScaler to do the work.\n",
    "\n",
    "We'll fit-and-transform the features just like we did in the deskewing demo.\n",
    "\n",
    "http://scikit-learn.org/stable/modules/generated/sklearn.preprocessing.StandardScaler.html"
   ]
  },
  {
   "cell_type": "code",
   "execution_count": null,
   "metadata": {},
   "outputs": [],
   "source": [
    "from sklearn.preprocessing import StandardScaler\n",
    "\n",
    "X_train, X_test, y_train, y_test = train_test_split(X, y, test_size=0.3)\n",
    "\n",
    "ss = StandardScaler()\n",
    "\n",
    "X_train_ss = ss.fit_transform(X_train)\n",
    "\n",
    "lr = linear_model.LinearRegression()\n",
    "linear = lr.fit(X_train_ss, y_train)"
   ]
  },
  {
   "cell_type": "code",
   "execution_count": null,
   "metadata": {},
   "outputs": [],
   "source": [
    "y_pred = linear.predict(ss.transform(X_test))\n",
    "print(\"RMSE %f\" % np.sqrt(mean_squared_error(y_test, y_pred)) )"
   ]
  },
  {
   "cell_type": "markdown",
   "metadata": {},
   "source": [
    "Is the result substantially better, worse, or neither?\n",
    "\n",
    "What about the coefficients?"
   ]
  },
  {
   "cell_type": "code",
   "execution_count": null,
   "metadata": {},
   "outputs": [],
   "source": [
    "list(zip(X_train.columns,linear.coef_))"
   ]
  }
 ],
 "metadata": {
  "kernelspec": {
   "display_name": "Python 3",
   "language": "python",
   "name": "python3"
  },
  "language_info": {
   "codemirror_mode": {
    "name": "ipython",
    "version": 3
   },
   "file_extension": ".py",
   "mimetype": "text/x-python",
   "name": "python",
   "nbconvert_exporter": "python",
   "pygments_lexer": "ipython3",
   "version": "3.7.6"
  },
  "name": "02b-Solution-StandardScaling",
  "notebookId": 2375086480048810
 },
 "nbformat": 4,
 "nbformat_minor": 4
}
