{
 "cells": [
  {
   "cell_type": "markdown",
   "metadata": {},
   "source": [
    "# Statistics"
   ]
  },
  {
   "cell_type": "markdown",
   "metadata": {},
   "source": [
    "### Basic concepts (high level, minimal math)\n",
    "\n",
    "* Distribution\n",
    "* Mean\n",
    "* Variance (a measure of *dispersion*)\n",
    "  * Stat definition: average squared distance from the mean\n",
    "  * Qualitative definition: how spread out the distribution is from its mean\n",
    "    * note: there are lots of \"ways\" the data might be spread out, so just knowing variance (and mean) doesn't tell you the shape of the distribution   \n",
    "* Standard Deviation\n",
    "  * Technically, the square root of the variance\n",
    "  * Useful because it is in the units originally measured\n",
    "    * e.g., if your data values are in dollars, sd or &sigma; will be in dollars, whereas variance \"Var\" will be in squared dollars (huh?!)\n",
    "  \n",
    "<img src=\"https://materials.s3.amazonaws.com/i/variance.jpg\">\n",
    "\n",
    "Why is this important?\n",
    "\n",
    "1. We can communicate a little bit about data sets\n",
    "2. We can compare data sets\n",
    "3. If we had a model that is supposed to *predict* data that is like our data set, some of these numbers can help us understand if that model is any good at all."
   ]
  },
  {
   "cell_type": "markdown",
   "metadata": {},
   "source": [
    "### Fun Example Time\n",
    "\n",
    "*Courtesy of Ben Jones, Tech evangelism director at data-viz company Tableau*\n",
    "\n",
    "The average NFL player \n",
    "* is about 25 years old, \n",
    "* just over 6'2\" in height, \n",
    "* weighs a little more than 244lbs \n",
    "* and makes slightly less than $1.5M in salary per year. \n",
    "\n",
    "Can you tell which distribution goes with which trait? See why the shape of the distribution matters a lot?\n",
    "\n",
    "<img src=\"https://materials.s3.amazonaws.com/i/Z1mjFV3.jpg\" width=800>"
   ]
  },
  {
   "cell_type": "markdown",
   "metadata": {},
   "source": [
    "### Joint Distribution\n",
    "\n",
    "<img src=\"https://materials.s3.amazonaws.com/i/gIS5SEP.png\">"
   ]
  },
  {
   "cell_type": "markdown",
   "metadata": {},
   "source": [
    "### Correlation\n",
    "\n",
    "<img src=\"https://materials.s3.amazonaws.com/i/pFmzivk.png\" width=600>\n",
    "\n",
    "__Correlation is important, but many distributions with the same correlation statistic can have less intuitive relationships than the pretty picture above, so beware:__\n",
    "\n",
    "<img src=\"https://materials.s3.amazonaws.com/i/2SUEoi0.png\">"
   ]
  },
  {
   "cell_type": "markdown",
   "metadata": {},
   "source": [
    "### What about significance tests and numbers of samples?\n",
    "\n",
    "If you took a basic stats course in school, or if you dealt with stats in a physical/social science class where you had to create and evaluate experiments, you may have spent a lot of time on significance testing.\n",
    "\n",
    "One of the nice things about the \"big data\" world where we often do industrial machine learning, is that we have very large data sets ... in many cases the data set can be considered to be the same as the underlying distribution (up to induced problems) -- size is not an issue. \n",
    "\n",
    "In fact, even when we take \"small\" samples, the samples will still be so large as to have negligible difference from the underlying distribution (as long as we sample reasonably). TL;DR: we don't have to worry too much about significance tests."
   ]
  },
  {
   "cell_type": "markdown",
   "metadata": {},
   "source": [
    "### Bayesian Reasoning\n",
    "\n",
    "* Probability as degree of belief\n",
    "* E.g., https://twitter.com/benrosssports/status/1044483305666568192\n",
    "\n",
    "\n",
    "#### Bayes' Theorem: Goal is to Find Hypothesis that is Most Likely Under the Evidence (Data)\n",
    "\n",
    "<img src=\"https://materials.s3.amazonaws.com/i/wTYPOkN.png\">\n",
    "\n",
    "* H is a hypothesis about the data (e.g., parameters in a model that characterize data)\n",
    "* P(H) is the \"prior belief\" about the probability of those model params\n",
    "* P(E|H) is the \"likelihood\" of the data given the model param hypothesis\n",
    "  * I.e., if H were true (as opposed to some alternative[s]) how likely would we be to see data E (again, as opposed to some alternative[s])\n",
    "* P(H|E) is what we are usually trying to learn, namely the \"posterior probability\" of the model params given the data\n",
    "* P(E) is often hard to calculate, but is typically a constant (for a specific problem) and so we can effectively ignore it\n",
    "\n",
    "https://en.wikipedia.org/wiki/Bayesian_inference\n",
    "\n",
    "There are a bunch of other details ... but the rest of the details -- and perhaps even these! -- are not important for now. Nor is the procedure for calculating things with these rules.\n",
    "\n",
    "__It's mainly included because:__\n",
    "1. You'll come across these terms and now they'll be a little less mysterious\n",
    "2. It always seemed unfair to me how many books, docs, or tutorials insist that \"only very minimal stats knowledge is needed\" but don't mention the fact that, ok, but it's *Bayesian* which is often not covered *at all* in basic stats courses or books."
   ]
  },
  {
   "cell_type": "markdown",
   "metadata": {},
   "source": [
    "#### If you want to learn more...\n",
    "\n",
    "<img src=\"https://materials.s3.amazonaws.com/i/gW3y0FZ.jpg\" width=300>\n",
    "\n",
    "__100% free from the author at http://greenteapress.com/wp/think-bayes/ if you don't need the paper__\n",
    "\n",
    "Super accessible for codes, relies on simple Python examples"
   ]
  },
  {
   "cell_type": "markdown",
   "metadata": {},
   "source": [
    "__APPENDIX__\n",
    "\n",
    "Example answers are: A) Height, B)Age, C) Weight, D) Salary."
   ]
  },
  {
   "cell_type": "code",
   "execution_count": null,
   "metadata": {},
   "outputs": [],
   "source": []
  }
 ],
 "metadata": {
  "kernelspec": {
   "display_name": "Python 3",
   "language": "python",
   "name": "python3"
  },
  "language_info": {
   "codemirror_mode": {
    "name": "ipython",
    "version": 3
   },
   "file_extension": ".py",
   "mimetype": "text/x-python",
   "name": "python",
   "nbconvert_exporter": "python",
   "pygments_lexer": "ipython3",
   "version": "3.8.6"
  },
  "name": "02-Stats",
  "notebookId": 2375086480052276
 },
 "nbformat": 4,
 "nbformat_minor": 4
}
