{
 "cells": [
  {
   "cell_type": "markdown",
   "metadata": {},
   "source": [
    "### SVM Classifier Lab"
   ]
  },
  {
   "cell_type": "markdown",
   "metadata": {},
   "source": [
    "In this lab, we'll use a linear support vector machine to classify irises.\n",
    "\n",
    "This dataset (\"iris\") is one of the most famous in machine learning -- it contains 4 measurements for each of 150 iris instances, along with a label telling the iris type.\n",
    "\n",
    "The goal here is to expore the space of possible iris measurements, and see where a SVC draws its boundary lines."
   ]
  },
  {
   "cell_type": "code",
   "execution_count": null,
   "metadata": {},
   "outputs": [],
   "source": [
    "import numpy as np\n",
    "import matplotlib.pyplot as plt\n",
    "from sklearn import datasets\n",
    "from sklearn.svm import SVC"
   ]
  },
  {
   "cell_type": "code",
   "execution_count": null,
   "metadata": {},
   "outputs": [],
   "source": [
    "iris = datasets.load_iris()\n",
    "dir(iris)"
   ]
  },
  {
   "cell_type": "code",
   "execution_count": null,
   "metadata": {},
   "outputs": [],
   "source": [
    "iris.feature_names"
   ]
  },
  {
   "cell_type": "code",
   "execution_count": null,
   "metadata": {},
   "outputs": [],
   "source": [
    "iris.data[0]"
   ]
  },
  {
   "cell_type": "code",
   "execution_count": null,
   "metadata": {},
   "outputs": [],
   "source": [
    "iris.target_names"
   ]
  },
  {
   "cell_type": "code",
   "execution_count": null,
   "metadata": {},
   "outputs": [],
   "source": [
    "iris.target[0]"
   ]
  },
  {
   "cell_type": "markdown",
   "metadata": {},
   "source": [
    "In order to make it easy to visualize the classification, we'll just use 2 of the 4 features.\n",
    "\n",
    "That way, we the feature space is 2-dimensional, and we can plot it. We'll indicate the classification itself using colors/symbols at each point."
   ]
  },
  {
   "cell_type": "code",
   "execution_count": null,
   "metadata": {},
   "outputs": [],
   "source": [
    "# The petal len + width:\n",
    "X = iris[\"data\"][:, (2, 3)]\n",
    "y = iris[\"target\"].astype(np.float)"
   ]
  },
  {
   "cell_type": "markdown",
   "metadata": {},
   "source": [
    "To make a simple linear support-vector classifier, we'll use scikit-learn's SVC class: http://scikit-learn.org/stable/modules/generated/sklearn.svm.SVC.html"
   ]
  },
  {
   "cell_type": "code",
   "execution_count": null,
   "metadata": {},
   "outputs": [],
   "source": [
    "svm_clf = SVC(kernel=\"linear\")\n",
    "svm_clf.fit(X, y)"
   ]
  },
  {
   "cell_type": "markdown",
   "metadata": {},
   "source": [
    "Hmmm... we just trained on all of the data... What happened to training, evaluation, test, and all that?\n",
    "\n",
    "In this case, we are less interested in measuring the accuracy of the classifier, and more interested in visualizing how it sees the \"space\" (or world) of data (iris) instances.\n",
    "\n",
    "* We'll actually be able to see the accuracy (or inaccuracy) here because this dataset is so small, we can look at all of the points!"
   ]
  },
  {
   "cell_type": "code",
   "execution_count": null,
   "metadata": {},
   "outputs": [],
   "source": [
    "# Make a grid of points throughout the feature space:\n",
    "\n",
    "x0, x1 = np.meshgrid(\n",
    "    np.linspace(0, 8, 200).reshape(-1, 1),\n",
    "    np.linspace(0, 3, 200).reshape(-1, 1)\n",
    ")\n",
    "\n",
    "print(x0)"
   ]
  },
  {
   "cell_type": "code",
   "execution_count": null,
   "metadata": {},
   "outputs": [],
   "source": [
    "X_new = np.c_[x0.ravel(), x1.ravel()]\n",
    "\n",
    "print(X_new.shape)\n",
    "\n",
    "print(X_new[:3])\n",
    "\n",
    "print(X_new[200:203])"
   ]
  },
  {
   "cell_type": "markdown",
   "metadata": {},
   "source": [
    "Now we'll get a prediction for every point in this chunk of feature space, and shape it so a prediction \"goes with\" each point:"
   ]
  },
  {
   "cell_type": "code",
   "execution_count": null,
   "metadata": {},
   "outputs": [],
   "source": [
    "y_predict = svm_clf.predict(X_new)\n",
    "\n",
    "zz = y_predict.reshape(x0.shape)\n",
    "\n",
    "zz[0] # predictions as x0 \"goes\" from 0 to 8 cm"
   ]
  },
  {
   "cell_type": "markdown",
   "metadata": {},
   "source": [
    "Here is how the classifier is dividing up the space of petal length, petal width"
   ]
  },
  {
   "cell_type": "code",
   "execution_count": null,
   "metadata": {},
   "outputs": [],
   "source": [
    "plt.contourf(x0, x1, zz)"
   ]
  },
  {
   "cell_type": "markdown",
   "metadata": {},
   "source": [
    "Well, ok ... but is it any good? Let's plot the real flowers and their classes onto this visualization and see.\n",
    "\n",
    "Recall that earlier we made X a view onto the the petal length and width values, and y a view onto the target column\n",
    "\n",
    "```\n",
    "# The petal len + width:\n",
    "X = iris[\"data\"][:, (2, 3)]\n",
    "y = iris[\"target\"].astype(np.float)\n",
    "```\n",
    "\n",
    "This lets us use some fancy indexing tricks almost like a \"WHERE clause\" to find matching records. Then we can give each matching group its own color and symbol."
   ]
  },
  {
   "cell_type": "code",
   "execution_count": null,
   "metadata": {},
   "outputs": [],
   "source": [
    "plt.contourf(x0, x1, zz)\n",
    "plt.plot(X[y == 2, 0], X[y == 2, 1], \"g^\") #Virginica\n",
    "plt.plot(X[y == 1, 0], X[y == 1, 1], \"bs\") #Versicolor\n",
    "plt.plot(X[y == 0, 0], X[y == 0, 1], \"yo\") #Setosa"
   ]
  },
  {
   "cell_type": "code",
   "execution_count": null,
   "metadata": {},
   "outputs": [],
   "source": []
  }
 ],
 "metadata": {
  "kernelspec": {
   "display_name": "Python 3",
   "language": "python",
   "name": "python3"
  },
  "language_info": {
   "codemirror_mode": {
    "name": "ipython",
    "version": 3
   },
   "file_extension": ".py",
   "mimetype": "text/x-python",
   "name": "python",
   "nbconvert_exporter": "python",
   "pygments_lexer": "ipython3",
   "version": "3.7.6"
  },
  "name": "01b-SVM",
  "notebookId": 2375086480048845
 },
 "nbformat": 4,
 "nbformat_minor": 4
}
