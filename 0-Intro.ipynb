{
 "cells": [
  {
   "cell_type": "markdown",
   "metadata": {},
   "source": [
    "# Instructor and Administrative Details\n",
    "\n",
    "<img src='images/med-head.jpg' width=300 align=left>"
   ]
  },
  {
   "cell_type": "markdown",
   "metadata": {},
   "source": [
    "## Adam Breindel\n",
    "\n",
    "__LinkedIn__ - https://www.linkedin.com/in/adbreind\n",
    "\n",
    "__Email__ - <tt>adbreind@gmail.com</tt>\n",
    "\n",
    "__Twitter__ - <tt>@adbreind</tt>\n",
    "\n",
    "* 20+ years building systems for startups and large enterprises\n",
    "* 10+ years teaching front- and back-end technology\n",
    "\n",
    "__Fun large-scale data projects__\n",
    "* Streaming neural net + decision tree fraud scoring\n",
    "* Realtime & offline analytics for banking\n",
    "* Music synchronization and licensing for networked jukeboxes\n",
    "\n",
    "__Industries__\n",
    "* Finance / Insurance\n",
    "* Travel, Media / Entertainment\n",
    "* Energy, Government\n",
    "* Advertising/Social Media, & more\n",
    "\n",
    "__Currently (Besides Training)__\n",
    "* Consulting on data engineering and machine learning\n",
    "* Development\n",
    "* Various advisory roles"
   ]
  },
  {
   "cell_type": "markdown",
   "metadata": {},
   "source": [
    "## Class Schedule: 8:30-4:30 x 2 Days\n",
    "\n",
    "* Typically start a few minutes late to allow for commute variance\n",
    "* Wrap up \"main\" content by ~ 4 p.m. to allow for questions, commuter shuttles/trains/buses\n",
    "* Lunch from 12 - 1 p.m.\n",
    "* Breaks of about 9 minutes every hour or so\n",
    "\n",
    "*I totally understand how challenging it is to try and focus/absorb a ton of new stuff for hours at a time in front of a screen, especially since your \"regular\" job probably doesn't stop to give you the time off*\n",
    "\n",
    "So ... try not to stress it too much, move around and get drinks during the breaks, and if you need to dial in by phone so you can go walk around outside for an hour and listen, go for it! Overall, that will probably actually help you learn more stuff more easily."
   ]
  },
  {
   "cell_type": "markdown",
   "metadata": {},
   "source": [
    "## Materials\n",
    "\n",
    "Everything we do is in these notebooks (and accompanying data, etc.) -- no PowerPoint!\n",
    "\n",
    "In addition to having hands-on, runnable code throughout, we'll also have a handful of slightly longer labs (usually around 10-20 minutes) so that you can try some mini-projects on your own.\n",
    "\n",
    "__For the class we'll use the cloud-based Binder version, so no need to install!__\n",
    "\n",
    "### You May Want to Get/Keep the Materials for Review Later\n",
    "\n",
    "The public github repo for this class will *not* be up permanently, since I'm always changing and updating things, etc.\n",
    "\n",
    "But you can download a .zip file with the full contents (including an \"environment\" file that lists all dependencies). I'll supply the URL in the live chat. That zip file will be up permanently, so you don't need to rush; you can get it any time.\n",
    "\n",
    "__Running the Environment Locally__\n",
    "\n",
    "The easiest way to get everything set up locally (and also keep everything encapsulated, so it won't mess with your other Python projects) is to download and install Anaconda (or Miniconda) from https://www.anaconda.com/distribution/\n",
    "\n",
    "Anaconda lets you easily manage multiple, isolated Python environments, each with their own dependencies.\n",
    "\n",
    "Once you have Anaconda set up, the basic way to install the environment is to create a new conda env for this class with the `--file` option and point at `binder/environment.yml`\n",
    "\n",
    "If you're in a hurry, there's a Conda cheat sheet with basic details at https://docs.conda.io/projects/conda/en/4.6.0/_downloads/52a95608c49671267e40c689e0bc00ca/conda-cheatsheet.pdf\n",
    "\n",
    "Once you're conda environment is set up, and you've switched to it, and you're in the root of the course materials folder, you can run `jupyter lab` at the command line to launch a browser that should come up very much like this one!"
   ]
  },
  {
   "cell_type": "code",
   "execution_count": null,
   "metadata": {},
   "outputs": [],
   "source": []
  }
 ],
 "metadata": {
  "kernelspec": {
   "display_name": "Python 3",
   "language": "python",
   "name": "python3"
  },
  "language_info": {
   "codemirror_mode": {
    "name": "ipython",
    "version": 3
   },
   "file_extension": ".py",
   "mimetype": "text/x-python",
   "name": "python",
   "nbconvert_exporter": "python",
   "pygments_lexer": "ipython3",
   "version": "3.8.2"
  }
 },
 "nbformat": 4,
 "nbformat_minor": 4
}
