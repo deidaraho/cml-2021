{
 "cells": [
  {
   "cell_type": "markdown",
   "metadata": {},
   "source": [
    "# Data Science is Data ... and Science\n",
    "\n",
    "__Great... What does that mean?__\n",
    "\n",
    "<img src=\"https://materials.s3.amazonaws.com/i/QS5fKym.jpg\" width=700>"
   ]
  },
  {
   "cell_type": "markdown",
   "metadata": {},
   "source": [
    "__Wow ... that's a whole lot of ... stuff to learn.__\n",
    "\n",
    "We'll take it one step at a time. Note that the *model* part that everyone loves comes near the end, and isn't the biggest part. (You may have seen a much less pretty Google image that makes this same point.)\n",
    "\n",
    "*We're going to start with __Data__ and the __questions__ we might ask*"
   ]
  },
  {
   "cell_type": "markdown",
   "metadata": {},
   "source": [
    "## Data\n",
    "\n",
    "<img src=\"https://materials.s3.amazonaws.com/i/rbcnjIr.jpg\">\n",
    "\n",
    "* __Kinds__\n",
    "  * String, discrete / categorical, continuous\n",
    "  * Encodings, precision, etc.\n",
    "* __Records and Fields__\n",
    "  * Data Dictionaries\n",
    "    * e.g., \"1=North America, 2=South America\"\n",
    "  * Where does the \"buck stop\" on business knowledge?\n",
    "    * e.g., Who knows how/why/when Costa Rica was assigned to ... ?\n",
    "* __Sources__\n",
    "* __Size__\n",
    "* __Sampling__\n",
    "* __\"data\" vs. \"capta\"__\n",
    "* __Value? (e.g., neighbor)__"
   ]
  },
  {
   "cell_type": "markdown",
   "metadata": {},
   "source": [
    "## Questions \n",
    "### Experiments, the Science part of Data Science\n",
    "\n",
    "<img src=\"https://materials.s3.amazonaws.com/i/QfaKplG.jpg\" width=600>\n",
    "<br><br>\n",
    "\n",
    "* __Prediction__\n",
    "  * Past data to predict future (e.g., weather)\n",
    "  * Local data to predict general (e.g., handwriting recognition)\n",
    "* __Experiments need (ideally)...__\n",
    "  * Clear hypothesis\n",
    "  * Clear \"null hypothesis\"\n",
    "  * Reproducibility\n",
    "  * Methodology chosen *before* looking at the data/results"
   ]
  },
  {
   "cell_type": "markdown",
   "metadata": {},
   "source": [
    "## Why is this Hard?\n",
    "\n",
    "__Poor understanding of the data__\n",
    "\n",
    "* Incomplete picture\n",
    "  * e.g., small diamonds\n",
    "* Biased picture\n",
    "  * Cognitive biases, reasoning difficulties\n",
    "    * Monty Hall\n",
    "    * Simpson's paradox\n",
    "    * Ergodicity\n",
    "  * Induced / selection biases\n",
    "    * Berkson's paradox\n",
    "\n",
    "__Poor separation of signal from noise__\n",
    "\n",
    "<img src=\"https://materials.s3.amazonaws.com/i/xvh6lXe.png\" width=200>\n",
    "\n",
    "__Ill-posed problems__\n",
    "\n",
    "\"Who are the best customers?\" ... \"What is this a picture of?\""
   ]
  },
  {
   "cell_type": "markdown",
   "metadata": {},
   "source": [
    "## Where do we Start?\n",
    "\n",
    "#### Exploratory Data Analysis\n",
    "\n",
    "We can dive right in ... assuming we have easy access to query the data"
   ]
  },
  {
   "cell_type": "markdown",
   "metadata": {},
   "source": [
    "### Querying a SQL database is pretty easy ... why isn't everything this easy?\n",
    "\n",
    "Why wouldn't a company put every piece of data into a relational (SQL) database?\n",
    "\n",
    "What are some tradeoffs to associated with relational systems?\n",
    "\n",
    "When are the tradeoffs worth it?"
   ]
  },
  {
   "cell_type": "markdown",
   "metadata": {},
   "source": [
    "### But if we can get the data and query it, it's downhill from there, right?\n",
    "\n",
    "<img src=\"https://materials.s3.amazonaws.com/i/f6reoje.png\" width=200> <img src=\"https://materials.s3.amazonaws.com/i/guyiu4h.jpg\"> <img src=\"https://materials.s3.amazonaws.com/i/3IFawyV.png\" width=180>\n",
    "\n",
    "* 2005 Dom Perignon Rose, 100 pts, \\$270\n",
    "* 2009 Roederer Cristal, 96 pts, \\$179\n",
    "* NV Mumm Napa Brut Prestige, 91-92 pts, \\$19\n",
    "\n",
    "#### Try this...\n",
    "\n",
    "1. What is the lowest-rated wine you can find online?\n",
    "2. What is the range of wine ratings?\n",
    "\n",
    "Suppose we build a dataset of wines and their ratings. \n",
    "1. What kind of business questions (and answers) might be useful?\n",
    "2. Leaving aside the subjectivity of human tasters, what are some problems with this data?\n",
    "\n",
    "Everything would be easier if one organization (?) used consistent standards (?) and data (?) to provide ratings, right?\n",
    "* https://www.consumerreports.org/consumerist/can-you-trust-those-awards-you-see-in-auto-ads/\n",
    "* https://money.cnn.com/2015/09/30/news/better-business-bureau-millions/index.html\n",
    "\n",
    "It all works better at Internet scale, where millions of data points can be aggregated, right?\n",
    "* https://www.forbes.com/sites/jimhandy/2012/08/16/think-yelp-is-unbiased-think-again\n",
    "* https://www.sfgate.com/news/article/Yelp-can-give-paying-clients-better-ratings-5731200.php\n",
    "\n",
    "But some companies just tabulate the data, and the scale is clear -- like the ubiquitous 1-5 stars, right?\n",
    "* https://therideshareguy.com/how-to-avoid-deactivation-as-an-uber-and-lyft-driver/\n",
    "\n",
    "At least it will be straightforward when we're analyzing physical, natural, plentiful data with simple sensors, right?\n",
    "* https://gizmodo.com/why-cant-this-soap-dispenser-identify-dark-skin-1797931773"
   ]
  },
  {
   "cell_type": "markdown",
   "metadata": {},
   "source": [
    "## What's the Point?\n",
    "\n",
    "* Make sure we have the \"right\" data\n",
    "* Understand the data\n",
    "* Be careful about the interpretive tools we apply\n",
    "* Consider the predictive power of the dataset\n",
    "\n",
    "We'll talk more about statistics in a little bit."
   ]
  },
  {
   "cell_type": "markdown",
   "metadata": {},
   "source": [
    "### Where to start when someone just \"hands us\" a pile of data?\n",
    "\n",
    "#### Data access, parsing, ingestion, \"wrangling\"\n",
    "\n",
    "https://en.wikipedia.org/wiki/Data_wrangling\n",
    "\n",
    "Let's look at some real but fairly \"clean\" data to begin with, unlike most real-world data."
   ]
  },
  {
   "cell_type": "markdown",
   "metadata": {},
   "source": [
    "### Lab Activity: CSV"
   ]
  },
  {
   "cell_type": "code",
   "execution_count": null,
   "metadata": {},
   "outputs": [],
   "source": [
    "! ls data"
   ]
  },
  {
   "cell_type": "code",
   "execution_count": null,
   "metadata": {},
   "outputs": [],
   "source": [
    "import pandas as pd"
   ]
  },
  {
   "cell_type": "markdown",
   "metadata": {},
   "source": [
    "__What is Pandas?!__\n",
    "\n",
    "https://pandas.pydata.org/\n",
    "\n",
    "https://pandas.pydata.org/pandas-docs/stable/10min.html"
   ]
  },
  {
   "cell_type": "code",
   "execution_count": null,
   "metadata": {},
   "outputs": [],
   "source": [
    "df = pd.read_csv(\"data/housing.csv\", comment=\"#\")"
   ]
  },
  {
   "cell_type": "code",
   "execution_count": null,
   "metadata": {},
   "outputs": [],
   "source": [
    "df"
   ]
  },
  {
   "cell_type": "code",
   "execution_count": null,
   "metadata": {},
   "outputs": [],
   "source": [
    "df.describe()"
   ]
  },
  {
   "cell_type": "markdown",
   "metadata": {},
   "source": [
    "Some basic queries..."
   ]
  },
  {
   "cell_type": "code",
   "execution_count": null,
   "metadata": {},
   "outputs": [],
   "source": [
    "df.groupby('in_sf').mean()"
   ]
  },
  {
   "cell_type": "code",
   "execution_count": null,
   "metadata": {},
   "outputs": [],
   "source": [
    "df.groupby('in_sf').mean()['price']"
   ]
  },
  {
   "cell_type": "code",
   "execution_count": null,
   "metadata": {},
   "outputs": [],
   "source": [
    "df.groupby('in_sf').mean()[['price', 'sqft']]"
   ]
  },
  {
   "cell_type": "code",
   "execution_count": null,
   "metadata": {},
   "outputs": [],
   "source": [
    "import matplotlib.pyplot as plt"
   ]
  },
  {
   "cell_type": "markdown",
   "metadata": {},
   "source": [
    "Ok, __what's Matplotlib??__\n",
    "\n",
    "https://matplotlib.org/\n",
    "\n",
    "https://matplotlib.org/tutorials/introductory/usage.html#sphx-glr-tutorials-introductory-usage-py"
   ]
  },
  {
   "cell_type": "code",
   "execution_count": null,
   "metadata": {},
   "outputs": [],
   "source": [
    "plt.plot(df.sqft, df.price, '.')"
   ]
  },
  {
   "cell_type": "code",
   "execution_count": null,
   "metadata": {},
   "outputs": [],
   "source": [
    "df.plot('sqft', 'price', 'scatter')"
   ]
  },
  {
   "cell_type": "code",
   "execution_count": null,
   "metadata": {},
   "outputs": [],
   "source": [
    "? df.plot"
   ]
  },
  {
   "cell_type": "code",
   "execution_count": null,
   "metadata": {},
   "outputs": [],
   "source": [
    "ny = df[df.in_sf == 0]\n",
    "ny.plot('sqft', 'price', kind='scatter')"
   ]
  },
  {
   "cell_type": "code",
   "execution_count": null,
   "metadata": {},
   "outputs": [],
   "source": [
    "sf = df[df.in_sf == 1]\n",
    "sf.plot('sqft', 'price', 'scatter')"
   ]
  },
  {
   "cell_type": "code",
   "execution_count": null,
   "metadata": {},
   "outputs": [],
   "source": [
    "ny.sqft.plot(kind='hist', bins=40)"
   ]
  },
  {
   "cell_type": "code",
   "execution_count": null,
   "metadata": {},
   "outputs": [],
   "source": [
    "# matplotlib direct syntax\n",
    "plt.hist(sf.sqft, bins=40)"
   ]
  },
  {
   "cell_type": "markdown",
   "metadata": {},
   "source": [
    "### Lab Activity\n",
    "\n",
    "1. What is the most expensive NY property (in price per square foot)? In SF?\n",
    "2. What are the top 10 highest elevation properties in SF? In NY?\n",
    "3. If you *didn't know* whether a property was in SF or NY, what info in the dataset (besides the `in_sf` flag, obviously) might be useful to figure out the property's location?\n",
    "4. How well would that work? Why?\n",
    "5. Do properties seem to have a \"price per bedroom\"? How would you ask (or answer) that kind of question?\n",
    "6. In SF, higher elevation properties might have a view, or they might be in nice neighborhoods like Nob Hill or Russian Hill. Does the elevation correlate with price?"
   ]
  },
  {
   "cell_type": "markdown",
   "metadata": {},
   "source": [
    "## Data Cleansing\n",
    "\n",
    "<img src=\"https://materials.s3.amazonaws.com/i/Data-Cleansing-tool.jpg\" width=500>\n",
    "\n",
    "__Typical Problems__\n",
    "* Incomplete records / missing values\n",
    "* Duplicate (or partial duplicate) records\n",
    "* Impossible values\n",
    "* Values that violate business rules\n",
    "* Sampling/distribution problem\n",
    "* Skewed values\n",
    "\n",
    "__Approaches to Cleansing/Repair__\n",
    "* Dropping records\n",
    "* Repairing values from alternate sources\n",
    "* Imputing values\n",
    "* Upsampling/downsampling/stratified sampling\n",
    "* Deskewing calculations\n",
    "* Normalization (scale to 0-1) / standardization (mean 0, sd 1)\n",
    "\n",
    "__BEWARE!__\n",
    "\n",
    "*Cleansing your data is like doing surgery: if you get it right, everyone will be happy ... and may not even notice anything happened.*\n",
    "\n",
    "*But: if you don't understand the data and problems thoroughly, and if you are not thoughtful about the effect of your intervention, you can create worse problems:*\n",
    "* System crashes\n",
    "* Financial (business) losses due to poor human or machine decision-making from the data\n",
    "* Legal liability for your company, your business unit, or yourself, due to violation of US or EU law around privacy, discrimination, accounting rules, etc."
   ]
  },
  {
   "cell_type": "markdown",
   "metadata": {},
   "source": [
    "## Terminology and \"Features\"\n",
    "\n",
    "On the business side, we often refer to parts of a dataset as \"records\" and \"fields\"...\n",
    "\n",
    "For example, in a denormalized dataset of customer purchases\n",
    "* information associated with a particular purchase is a record\n",
    "* the data elements inside that record (e.g., customer last name, item name, price, time, etc.) are fields\n",
    "\n",
    "__As we move our focus toward machine learning, we focus more on *features* associated with each record.__\n",
    "\n",
    "So what is a feature? And how is it different from a field?\n",
    "\n",
    "*Features* are values \n",
    "* that we as data scientists (or in some cases algorithms or programs) select or create\n",
    "* specifically for the purpose of capturing key information that will inform our model or goal\n",
    "* may be related to one or more fields in a data set\n",
    "* may involve a change of represenatation from the underlying data.\n",
    "\n",
    "Here are some examples:\n",
    "\n",
    "* Customer last name is a field in some records. Is it a feature? I.e., would we likely include it for its informational or predictive value about some business project? Probably not.\n",
    "* Customer phone number is a field. Might it be a feature?\n",
    "  * Area code and/or exchange (prefix) used to be geographically correlated ... so maybe ... especially if we are talking land lines only\n",
    "  * On the other hand, the last 4 digits are rarely meaningful\n",
    "  * For cell numbers, there might be some valuable info in the area code and exchange, but it's hard to know -- we might want to formulate an experiment to decide\n",
    "* Customer age might be a field in some data. Is it a feature?\n",
    "  * For some use cases, it might be extremely informative\n",
    "  * For other use cases, it might be flat out illegal to use\n",
    "* Suppose age is informative and legal for our project. But suppose that the exact age (26 vs. 27, say, or 53 vs. 55) is not terribly useful.\n",
    "  * We might transform the raw age *field* into a discrete feature.\n",
    "  * For example, we might group 0-17 as minors, 18-34 as young adult, 35-55 as middle age, etc.\n",
    "  * This pattern is called \"bucketing\" because we group values into a smaller number of buckets (which stand in for groups of raw values)\n",
    "  * This throws away some data but might make our model simpler or more accurate\n",
    "  \n",
    "There are many such patterns for extracting, transforming, and selecting features from a dataset for further use. There is no one right way to do it, and many machine learning experts have asserted that data and feature preparation is substantially *more* important to the end result than fancy mathematical algorithms."
   ]
  },
  {
   "cell_type": "markdown",
   "metadata": {},
   "source": [
    "### APPENDIX\n",
    "\n",
    "__CIFAR-10 Categories__\n",
    "\n",
    "`airplane\n",
    "automobile\n",
    "bird\n",
    "cat\n",
    "deer\n",
    "dog\n",
    "frog\n",
    "horse\n",
    "ship\n",
    "truck`"
   ]
  },
  {
   "cell_type": "markdown",
   "metadata": {},
   "source": [
    "__Some info around wine scores:__\n",
    "\n",
    "* https://www.winespectator.com/display/show/id/scoring-scale\n",
    "* https://medium.com/the-global-wine-score/the-global-wine-score-data-distribution-a97cb67a1182"
   ]
  },
  {
   "cell_type": "code",
   "execution_count": null,
   "metadata": {},
   "outputs": [],
   "source": []
  }
 ],
 "metadata": {
  "kernelspec": {
   "display_name": "Python 3",
   "language": "python",
   "name": "python3"
  },
  "language_info": {
   "codemirror_mode": {
    "name": "ipython",
    "version": 3
   },
   "file_extension": ".py",
   "mimetype": "text/x-python",
   "name": "python",
   "nbconvert_exporter": "python",
   "pygments_lexer": "ipython3",
   "version": "3.7.4"
  },
  "name": "01-Data",
  "notebookId": 2375086480052240
 },
 "nbformat": 4,
 "nbformat_minor": 4
}
